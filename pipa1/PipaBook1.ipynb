{
 "cells": [
  {
   "cell_type": "code",
   "id": "95cc9259-d70a-4e28-9b87-dda3970fff04",
   "metadata": {
    "ExecuteTime": {
     "end_time": "2024-10-02T08:30:01.100956Z",
     "start_time": "2024-10-02T08:30:00.324073Z"
    }
   },
   "source": "import pandas as pd",
   "outputs": [],
   "execution_count": 1
  }
 ],
 "metadata": {
  "kernelspec": {
   "display_name": "Python 3 (ipykernel)",
   "language": "python",
   "name": "python3"
  },
  "language_info": {
   "codemirror_mode": {
    "name": "ipython",
    "version": 3
   },
   "file_extension": ".py",
   "mimetype": "text/x-python",
   "name": "python",
   "nbconvert_exporter": "python",
   "pygments_lexer": "ipython3",
   "version": "3.12.3"
  }
 },
 "nbformat": 4,
 "nbformat_minor": 5
}
