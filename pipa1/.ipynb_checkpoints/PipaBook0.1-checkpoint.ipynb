{
 "cells": [
  {
   "metadata": {},
   "cell_type": "code",
   "outputs": [],
   "execution_count": null,
   "source": [
    "import pandas as pd\n",
    "import numpy as np"
   ],
   "id": "ccaaf7de6ff7a70a"
  },
  {
   "metadata": {},
   "cell_type": "code",
   "outputs": [],
   "execution_count": null,
   "source": "df1 = pd.read_csv(r\"LabDataset\\green_surface.csv\", delimiter=\";\", low_memory=False)",
   "id": "5cfd7b9694407252"
  },
  {
   "metadata": {},
   "cell_type": "code",
   "outputs": [],
   "execution_count": null,
   "source": "df2 = pd.read_csv(r\"LabDataset\\gray_surface.csv\", delimiter=\";\", low_memory=False)",
   "id": "e14d230dfb58a781"
  },
  {
   "metadata": {},
   "cell_type": "code",
   "outputs": [],
   "execution_count": null,
   "source": "df3 = pd.read_csv(r\"LabDataset\\table_surface.csv\", delimiter=\";\", low_memory=False)",
   "id": "2785f5b3c3c6fd23"
  },
  {
   "metadata": {},
   "cell_type": "code",
   "outputs": [],
   "execution_count": null,
   "source": [
    "df1.head(10)\n",
    "df2.head(10)\n",
    "df3.head(1)"
   ],
   "id": "eef6e351bffe8711"
  }
 ],
 "metadata": {
  "kernelspec": {
   "display_name": "Python 3",
   "language": "python",
   "name": "python3"
  },
  "language_info": {
   "codemirror_mode": {
    "name": "ipython",
    "version": 2
   },
   "file_extension": ".py",
   "mimetype": "text/x-python",
   "name": "python",
   "nbconvert_exporter": "python",
   "pygments_lexer": "ipython2",
   "version": "2.7.6"
  }
 },
 "nbformat": 4,
 "nbformat_minor": 5
}
